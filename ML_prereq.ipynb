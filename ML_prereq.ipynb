{
  "nbformat": 4,
  "nbformat_minor": 0,
  "metadata": {
    "colab": {
      "provenance": []
    },
    "kernelspec": {
      "name": "python3",
      "display_name": "Python 3"
    },
    "language_info": {
      "name": "python"
    }
  },
  "cells": [
    {
      "cell_type": "markdown",
      "source": [
        "# ES654 Machine Learning Prerequsite test\n",
        "\n",
        "- Mihir Chauhan\n",
        "- 19110079"
      ],
      "metadata": {
        "id": "bDjbRFQGeOga"
      }
    },
    {
      "cell_type": "markdown",
      "source": [
        "**1. How many multiplications and additions do you need to perform a matrix multiplication between a (n, k) and (k, m) matrix? Explain.**\n",
        "\n",
        "Ans.\n",
        "\n",
        "We are given two matrices of (n, k) and (k, m).\n",
        "When we multiple two multiplication by simple multiplication method, we can find the total number of opertions of multiplication and additions. \n",
        "\n",
        "Final answer of matrix size is (n, m), so each entry of matrix is derieved by  two k- vectors. each entry can be calculated by k multiplications and k - 1 additions. So, total number of operations are = n * m ( k + k - 1).\n",
        "\n",
        "\n",
        "\n"
      ],
      "metadata": {
        "id": "V0mhTHL0BYOx"
      }
    },
    {
      "cell_type": "markdown",
      "source": [
        "**2. Write Python code to multiply the above two matrices. Solve using list of lists and then use numpy. Compare the timing of both solutions. Which one is faster? Why?**\n",
        "\n",
        "Ans. \n",
        "\n"
      ],
      "metadata": {
        "id": "NfNbvD6oEnIL"
      }
    },
    {
      "cell_type": "code",
      "source": [
        "# python code to multiply two matrices of size (n, k) and (k, m)\n",
        "\n",
        "def multiple(A, B):\n",
        "    n = len(A)\n",
        "    m = len(B[0])\n",
        "    k = len(B)\n",
        "\n",
        "    result = [[0 for i in range(m)] for j in range(n)]\n",
        "    \n",
        "    for i in range(n):\n",
        "        for j in range(m):\n",
        "            for l in range(k):\n",
        "                result[i][j] += A[i][l] * B[l][j]\n",
        "    #print(result) \n",
        "\n",
        "A = np.random.rand(500,50)\n",
        " \n",
        "B = arr = np.random.rand(50,500)\n",
        "\n",
        "multiple(A,B)\n"
      ],
      "metadata": {
        "id": "Es7SQRYqK4iM"
      },
      "execution_count": 14,
      "outputs": []
    },
    {
      "cell_type": "code",
      "source": [
        "import numpy as np\n",
        "def np_dot(A,B):\n",
        "    return np.dot(A,B)\n",
        "np_dot(A,B)"
      ],
      "metadata": {
        "colab": {
          "base_uri": "https://localhost:8080/"
        },
        "id": "Z_d1J9uobu4n",
        "outputId": "51dbb3b9-03dc-4d7c-e8ac-8bd0a6f96d63"
      },
      "execution_count": 15,
      "outputs": [
        {
          "output_type": "execute_result",
          "data": {
            "text/plain": [
              "array([[14.85986743, 14.30076571, 14.72617531, ..., 13.44191601,\n",
              "        13.37125944, 14.23205718],\n",
              "       [12.63890012, 15.04762798, 13.98947247, ..., 12.1592263 ,\n",
              "        14.24117862, 13.75499818],\n",
              "       [12.25855925, 12.27830501, 13.43086796, ..., 11.84700749,\n",
              "        13.16067122, 12.37398744],\n",
              "       ...,\n",
              "       [12.83336379, 13.41968712, 13.82699776, ..., 12.66628976,\n",
              "        12.90234541, 12.97459809],\n",
              "       [11.14504189, 12.53918349, 12.89362518, ..., 12.76391046,\n",
              "        12.15259156, 11.23498834],\n",
              "       [13.53117393, 14.59086469, 14.4698467 , ..., 12.50307958,\n",
              "        14.09078638, 12.8229827 ]])"
            ]
          },
          "metadata": {},
          "execution_count": 15
        }
      ]
    },
    {
      "cell_type": "code",
      "source": [
        "#compare\n",
        "import time\n",
        "\n",
        "timings = []\n",
        "for i in range(10): \n",
        "    t1 = time.time()\n",
        "    multiple(A, B)\n",
        "    t2 = time.time()\n",
        "    timings.append(t2 - t1)\n",
        "print(timings)\n"
      ],
      "metadata": {
        "colab": {
          "base_uri": "https://localhost:8080/"
        },
        "id": "H-BePTedb7rR",
        "outputId": "2a668202-cb6a-4332-dfdc-178fdecf0f85"
      },
      "execution_count": 17,
      "outputs": [
        {
          "output_type": "stream",
          "name": "stdout",
          "text": [
            "[10.494568824768066, 10.520912408828735, 8.715257167816162, 12.207541942596436, 12.433547973632812, 10.317838668823242, 9.756861448287964, 10.432981252670288, 13.441723108291626, 9.456186771392822]\n"
          ]
        }
      ]
    },
    {
      "cell_type": "code",
      "source": [
        "print(np.mean(timings))\n",
        "print(np.std(timings))"
      ],
      "metadata": {
        "colab": {
          "base_uri": "https://localhost:8080/"
        },
        "id": "gkJs_pPUXhpB",
        "outputId": "00df2d15-d41a-4405-bbcd-9b0e5115d631"
      },
      "execution_count": 20,
      "outputs": [
        {
          "output_type": "stream",
          "name": "stdout",
          "text": [
            "10.777741956710816\n",
            "1.3929065001862735\n"
          ]
        }
      ]
    },
    {
      "cell_type": "code",
      "source": [
        "import time\n",
        "\n",
        "array_timings_np = []\n",
        "for i in range(10): \n",
        "    t1 = time.time()\n",
        "    np_dot(A, B)\n",
        "    t2 = time.time()\n",
        "    array_timings_np.append(t2 - t1)\n",
        "print(array_timings_np)"
      ],
      "metadata": {
        "colab": {
          "base_uri": "https://localhost:8080/"
        },
        "id": "65JXQqk5ToZY",
        "outputId": "f9f08651-2c27-4c7b-bcaf-4736b6ebf283"
      },
      "execution_count": 18,
      "outputs": [
        {
          "output_type": "stream",
          "name": "stdout",
          "text": [
            "[0.011359214782714844, 0.002362966537475586, 0.002187490463256836, 0.0017559528350830078, 0.0011451244354248047, 0.0011491775512695312, 0.0011410713195800781, 0.0011603832244873047, 0.0011458396911621094, 0.0011188983917236328]\n"
          ]
        }
      ]
    },
    {
      "cell_type": "code",
      "source": [
        "print(np.mean(array_timings_np))\n",
        "print(np.std(array_timings_np))"
      ],
      "metadata": {
        "colab": {
          "base_uri": "https://localhost:8080/"
        },
        "id": "4NJPVa4ZXpob",
        "outputId": "720572f8-2252-46c9-979c-397d2ad9c538"
      },
      "execution_count": 21,
      "outputs": [
        {
          "output_type": "stream",
          "name": "stdout",
          "text": [
            "0.0024526119232177734\n",
            "0.0030029341979751303\n"
          ]
        }
      ]
    },
    {
      "cell_type": "markdown",
      "source": [
        "- as we can clearly see np dot multiple method is way faster than the regular normal multiple method. "
      ],
      "metadata": {
        "id": "s1Rs6JO4XxKC"
      }
    },
    {
      "cell_type": "markdown",
      "source": [
        "**3. Finding the highest element in a list requires one pass of the array. Finding the second highest element requires 2 passes of the the array. Using this method, what is the time complexity of finding the median of the array? Can you suggest a better method? Can you implement both these methods in Python and compare against numpy.median routine in terms of time?**\n",
        "\n",
        "Ans. \n",
        "\n",
        "Time complixity of suggested method will be O(N^2), because we require the N/2 passes of the array for finding the median of the array. \n",
        "\n",
        "We can direct use the sorting algorithm and then find the medien by the index according to the length of the given array. Time complexity will be O(NlogN). \n"
      ],
      "metadata": {
        "id": "vL0fJPxzJDLQ"
      }
    },
    {
      "cell_type": "code",
      "source": [
        "# given method\n",
        "def find_median(lst):\n",
        "    if(len(lst) == 1):\n",
        "        return lst[0]\n",
        "\n",
        "    elif(len(lst) == 2):\n",
        "        return (lst[0] + lst[1]) / 2.0\n",
        "\n",
        "    if(len(lst) % 2 == 0):\n",
        "        l = int((len(lst) / 2) + 1)\n",
        "        #print(l)\n",
        "        \n",
        "        pre_max = 1000000000\n",
        "        for i in range(1, l):\n",
        "            \n",
        "            max_so_far = -10000000\n",
        "            for j in range(len(lst)):\n",
        "                if(lst[j] > max_so_far and lst[j] < pre_max):\n",
        "                    max_so_far = lst[j]\n",
        "            pre_max = max_so_far\n",
        "        pre_max = max_so_far\n",
        "        max_so_far = -100000000\n",
        "        for j in range(len(lst)):\n",
        "            if(lst[j] > max_so_far and lst[j] < pre_max):\n",
        "                    max_so_far = lst[j]\n",
        "\n",
        "        return (max_so_far + pre_max) / 2.0\n",
        "\n",
        "    else:\n",
        "        l = int((len(lst) / 2))\n",
        "        #print(l)\n",
        "        \n",
        "        pre_max = 1000000000\n",
        "        for i in range(1, l+2):\n",
        "            \n",
        "            max_so_far = -10000000\n",
        "            for j in range(len(lst)):\n",
        "                if(lst[j] > max_so_far and lst[j] < pre_max):\n",
        "                    max_so_far = lst[j]\n",
        "            pre_max = max_so_far\n",
        "\n",
        "        return max_so_far\n",
        "\n",
        "find_median([5,6,7,3,2,1])\n",
        "# above algorithm only works with distict numbers.\n",
        "# to make it work with all the numbers we have make some changes in the algorithm \n",
        "# kind of like a selection sort problem\n",
        "#  or can think like to find the kth largest element, can use heap or other datastructure to simplify. "
      ],
      "metadata": {
        "colab": {
          "base_uri": "https://localhost:8080/"
        },
        "id": "NEoA-CJWJbMf",
        "outputId": "9f8326be-9cc3-49fd-b9ed-f7afe14ebb5e"
      },
      "execution_count": 22,
      "outputs": [
        {
          "output_type": "execute_result",
          "data": {
            "text/plain": [
              "4.0"
            ]
          },
          "metadata": {},
          "execution_count": 22
        }
      ]
    },
    {
      "cell_type": "code",
      "source": [
        "array = [5,6,7,3,2,2]\n",
        "def find_midian_sort(array):\n",
        "    array = sorted(array)\n",
        "    if(len(array) % 2 == 0):\n",
        "        return ((array[int(len(array) /2) - 1] + array[int(len(array) / 2)]) / 2.0)\n",
        "    else:\n",
        "        return (array[int(len(array) / 2)])\n"
      ],
      "metadata": {
        "id": "7bKeV9uiVQcG"
      },
      "execution_count": 28,
      "outputs": []
    },
    {
      "cell_type": "code",
      "source": [
        "def find_median_np(array):\n",
        "    return np.median(array)"
      ],
      "metadata": {
        "id": "BlflDLv9Y0Eo"
      },
      "execution_count": 29,
      "outputs": []
    },
    {
      "cell_type": "code",
      "source": [
        "#compare\n",
        "import time\n",
        "array_big = np.random.rand(10000)\n",
        "array_timings_1 = []\n",
        "for i in range(10): \n",
        "    t1 = time.time()\n",
        "    find_median(array_big)\n",
        "    t2 = time.time()\n",
        "    array_timings_1.append(t2 - t1)\n",
        "print(array_timings_1)\n",
        "print(np.mean(array_timings_1))\n",
        "print(np.std(array_timings_1))"
      ],
      "metadata": {
        "colab": {
          "base_uri": "https://localhost:8080/"
        },
        "id": "yD8j-2_xY8EO",
        "outputId": "c9dcce4e-f19c-40eb-95b3-fac7f2319c1a"
      },
      "execution_count": 33,
      "outputs": [
        {
          "output_type": "stream",
          "name": "stdout",
          "text": [
            "[9.225269794464111, 11.541891813278198, 12.090005159378052, 11.599814414978027, 11.122074127197266, 13.113388776779175, 10.315648317337036, 9.374499320983887, 9.395183801651001, 9.605323314666748]\n",
            "10.73830988407135\n",
            "1.2813605049464494\n"
          ]
        }
      ]
    },
    {
      "cell_type": "code",
      "source": [
        "array_timings_sort = []\n",
        "for i in range(10): \n",
        "    t1 = time.time()\n",
        "    find_midian_sort(array_big)\n",
        "    t2 = time.time()\n",
        "    array_timings_sort.append(t2 - t1)\n",
        "print(array_timings_sort)\n",
        "print(np.mean(array_timings_sort))\n",
        "print(np.std(array_timings_sort))"
      ],
      "metadata": {
        "colab": {
          "base_uri": "https://localhost:8080/"
        },
        "id": "SIs4wJYwWH1D",
        "outputId": "5ecd2d27-36c7-464d-8cef-d9d6a5fdbab9"
      },
      "execution_count": 34,
      "outputs": [
        {
          "output_type": "stream",
          "name": "stdout",
          "text": [
            "[0.00723576545715332, 0.005772829055786133, 0.005491018295288086, 0.008463621139526367, 0.005677938461303711, 0.0054242610931396484, 0.004376411437988281, 0.003881216049194336, 0.003800630569458008, 0.005107879638671875]\n",
            "0.005523157119750976\n",
            "0.0013721155883148154\n"
          ]
        }
      ]
    },
    {
      "cell_type": "code",
      "source": [
        "array_timings_np = []\n",
        "for i in range(10): \n",
        "    t1 = time.time()\n",
        "    find_median_np(array_big)\n",
        "    t2 = time.time()\n",
        "    array_timings_np.append(t2 - t1)\n",
        "print(array_timings_np)\n",
        "print(np.mean(array_timings_np))\n",
        "print(np.std(array_timings_np))"
      ],
      "metadata": {
        "colab": {
          "base_uri": "https://localhost:8080/"
        },
        "id": "jSln6FyrW4sv",
        "outputId": "9810566e-40b6-4d92-c8bf-71767e1d18a1"
      },
      "execution_count": 35,
      "outputs": [
        {
          "output_type": "stream",
          "name": "stdout",
          "text": [
            "[0.0018088817596435547, 0.0002460479736328125, 0.00021266937255859375, 0.00023317337036132812, 0.00022220611572265625, 0.0002048015594482422, 0.00020265579223632812, 0.0001976490020751953, 0.000225067138671875, 0.00019884109497070312]\n",
            "0.0003751993179321289\n",
            "0.00047813098198371185\n"
          ]
        }
      ]
    },
    {
      "cell_type": "markdown",
      "source": [
        "- as we can see sort method is faster than the regular method and for large inputs np method is also very fast than sort method. "
      ],
      "metadata": {
        "id": "Jw5LQ5kDYjpi"
      }
    },
    {
      "cell_type": "markdown",
      "source": [
        "**4. What is the gradient of the following function with respect to x and y?**\n",
        "\n",
        "Given function,  \n",
        ">  $f(x,y ) = x^2 y  + y^3 sin(x)$\n",
        "\n",
        "Gradient of the above funciton is derieved as below,\n",
        "\n",
        "> $ \\frac{\\partial f(x,y) }{ \\partial x } = 2xy + y ^ 3 cos(x)$ \n",
        "\n",
        "> $ \\frac{\\partial f(x,y) }{ \\partial y } = x^2 + 3y ^ 2 sin(x)$\n",
        "\n",
        "So, Gradiant of $f(x,y)$ is $[2xy + y ^ 3 cos(x), x^2 + 3y ^ 2 sin(x) ]$ \n"
      ],
      "metadata": {
        "id": "vjgjfdL0I4rM"
      }
    },
    {
      "cell_type": "markdown",
      "source": [
        "**5. Use JAX to confirm the gradient evaluated by your method matches the analytical solution corresponding to a few random values of x and y**\n",
        "\n",
        "Ans. \n"
      ],
      "metadata": {
        "id": "_ZzEm-zIf0_Z"
      }
    },
    {
      "cell_type": "code",
      "source": [
        "import jax.numpy as jnp\n",
        "import math\n",
        "from jax import grad\n",
        "\n",
        "def f(x, y):\n",
        "    return x**2 * y + y**3 * jnp.sin(x)\n",
        "\n",
        "dfdx = grad(f, argnums=0)\n",
        "dfdy = grad(f, argnums=1)"
      ],
      "metadata": {
        "id": "rr5_tHEmgRho"
      },
      "execution_count": 66,
      "outputs": []
    },
    {
      "cell_type": "markdown",
      "source": [
        "**6. Use sympy to confirm that you obtain the same gradient analytically**."
      ],
      "metadata": {
        "id": "_pvAJwXK-aqD"
      }
    },
    {
      "cell_type": "code",
      "source": [
        "import sympy\n",
        "\n",
        "x, y = sympy.symbols('x y')\n",
        "f = x**2 * y + y**3 * sympy.sin(x)\n",
        "\n",
        "gradient_x = sympy.diff(f, x)\n",
        "gradient_y = sympy.diff(f, y)\n",
        "\n",
        "print(f\"Gradient wrt x: {gradient_x}\")\n",
        "print(f\"Gradient wrt y: {gradient_y}\")"
      ],
      "metadata": {
        "colab": {
          "base_uri": "https://localhost:8080/"
        },
        "id": "F39tn7wD-eKx",
        "outputId": "1236cc2f-7932-42b2-894c-98fd9c0fcb3d"
      },
      "execution_count": 65,
      "outputs": [
        {
          "output_type": "stream",
          "name": "stdout",
          "text": [
            "Gradient wrt x: 2*x*y + y**3*cos(x)\n",
            "Gradient wrt y: x**2 + 3*y**2*sin(x)\n"
          ]
        }
      ]
    },
    {
      "cell_type": "markdown",
      "source": [
        "**7. Create a Python nested dictionary to represent hierarchical information. We want to store record of students and their marks. Something like:**"
      ],
      "metadata": {
        "id": "nXqGgiytyAT-"
      }
    },
    {
      "cell_type": "code",
      "source": [
        "record_dict = {}\n",
        "\n",
        "def add_year(year):\n",
        "    if year in record_dict.keys():\n",
        "        print(\"Year already exists.\")\n",
        "    else:\n",
        "        record_dict[year] = {}\n",
        "add_year(2022)\n",
        "add_year(2023)\n",
        "add_year(2024)\n",
        "add_year(2025)\n",
        "\n",
        "def add_Branch(branch,year):\n",
        "    if year not in record_dict.keys():\n",
        "        print(\"Year does not exist.\")\n",
        "    elif branch in record_dict[year].keys():\n",
        "        print(\"Branch already exists.\")\n",
        "    else:\n",
        "        record_dict[year][branch] = {}\n",
        "\n",
        "add_Branch(\"Branch1\",2022)\n",
        "add_Branch(\"Branch2\",2022)\n",
        "\n",
        "def add_student(roll_number,name, branch, year):\n",
        "    if year not in record_dict.keys():\n",
        "        print(\"Year does not exist.\")\n",
        "    elif branch not in record_dict[year].keys():\n",
        "        print(\"Branch does not exist.\")\n",
        "    elif roll_number in record_dict[year][branch].keys():\n",
        "        print(\"Student already exists\")\n",
        "    else:\n",
        "        record_dict[year][branch][roll_number] = {\"roll_number\" : roll_number, \"Name\":name, \"Marks\":{}}\n",
        "\n",
        "add_student(1,\"N\", \"Branch1\", 2022)\n",
        "add_student(2,\"M\", \"Branch1\", 2022)\n",
        "\n",
        "def add_marks(roll_number, subject, marks, branch, year):\n",
        "    if year not in record_dict.keys():\n",
        "        print(\"Year does not exist.\")\n",
        "    elif branch not in record_dict[year].keys():\n",
        "        print(\"Branch does not exist.\")\n",
        "    elif roll_number not in record_dict[year][branch].keys():\n",
        "        print(\"Student does not exists\")\n",
        "    else:\n",
        "        record_dict[year][branch][roll_number][\"Marks\"][subject] = marks\n",
        "add_marks(1,\"Maths\", 100, \"Branch1\", 2022)\n",
        "add_marks(1,\"English\", 70, \"Branch1\", 2022)\n",
        "\n"
      ],
      "metadata": {
        "id": "B6B-mfOWBwaE"
      },
      "execution_count": 63,
      "outputs": []
    },
    {
      "cell_type": "code",
      "source": [
        "record_dict"
      ],
      "metadata": {
        "colab": {
          "base_uri": "https://localhost:8080/"
        },
        "id": "UhKpBA9xCY9L",
        "outputId": "0e67bb14-f968-4757-dede-4b3dca4685e3"
      },
      "execution_count": 64,
      "outputs": [
        {
          "output_type": "execute_result",
          "data": {
            "text/plain": [
              "{2022: {'Branch1': {1: {'roll_number': 1,\n",
              "    'Name': 'N',\n",
              "    'Marks': {'Maths': 100, 'English': 70}},\n",
              "   2: {'roll_number': 2, 'Name': 'M', 'Marks': {}}},\n",
              "  'Branch2': {}},\n",
              " 2023: {},\n",
              " 2024: {},\n",
              " 2025: {}}"
            ]
          },
          "metadata": {},
          "execution_count": 64
        }
      ]
    },
    {
      "cell_type": "markdown",
      "source": [
        "**8. Store the same information using Python classes. We have an overall database which is a list of year objects. Each year contains a list of branches. Each branch contains a list of students. Each student has some properties like name, roll number and has marks in some subjects.**\n",
        "\n",
        "Ans."
      ],
      "metadata": {
        "id": "OnjUgg6s29XC"
      }
    },
    {
      "cell_type": "code",
      "source": [
        "class record:\n",
        "\n",
        "    def __init__(self):\n",
        "        self.dect = {}\n",
        "\n",
        "    def add_year(self,year):\n",
        "        if year in self.dect.keys():\n",
        "            print(\"Year already exists.\")\n",
        "        else:\n",
        "            self.dect[year]= {}\n",
        "    \n",
        "    def view(self):\n",
        "        print(self.dect)\n",
        "\n",
        "    def add_Branch(self, branch,year):\n",
        "        if year not in self.dect.keys():\n",
        "            print(year, \"does not exist.\")\n",
        "        elif branch in self.dect[year].keys():\n",
        "            print(\"Branch already exists.\")\n",
        "        else:\n",
        "            self.dect[year][branch] = {}\n",
        "\n",
        "    def add_student(self,roll_number,name, branch, year):\n",
        "        if year not in self.dect.keys():\n",
        "            print(\"Year does not exist.\")\n",
        "        elif branch not in self.dect[year].keys():\n",
        "            print(branch, \"does not exist.\")\n",
        "        elif roll_number in self.dect[year][branch].keys():\n",
        "            print(\"Student already exists\")\n",
        "        else:\n",
        "            self.dect[year][branch][roll_number] = {\"roll_number\" : roll_number, \"Name\":name, \"Marks\":{}}\n",
        "\n",
        "    def add_marks(self, roll_number, subject, marks, branch, year):\n",
        "        if year not in self.dect.keys():\n",
        "            print(\"Year does not exist.\")\n",
        "        elif branch not in self.dect[year].keys():\n",
        "            print(\"Branch does not exist.\")\n",
        "        elif roll_number not in self.dect[year][branch].keys():\n",
        "            print(\"Student does not exists\")\n",
        "        else:\n",
        "            self.dect[year][branch][roll_number][\"Marks\"][subject] = marks\n",
        "\n",
        "record1 = record()\n",
        "record1.add_year(2022) \n",
        "record1.add_year(2023) \n",
        "\n",
        "record1.add_Branch(\"Branch1\",2022)\n",
        "record1.add_Branch(\"Branch2\",2022)\n",
        "\n",
        "record1.add_Branch(\"Branch1\",2023)\n",
        "\n",
        "record1.add_student(1,\"N\", \"Branch1\", 2022)\n",
        "#record1.add_student(2,\"M\", \"Branch3\", 2022)\n",
        "\n",
        "record1.add_marks(1,\"Maths\", 100, \"Branch1\", 2022)\n",
        "record1.add_marks(1,\"English\", 70, \"Branch1\", 2022)\n",
        "\n",
        "record1.view()\n"
      ],
      "metadata": {
        "colab": {
          "base_uri": "https://localhost:8080/"
        },
        "id": "zktTiccL3BDn",
        "outputId": "955f1a0d-0b8a-492a-f3db-59013dab2b65"
      },
      "execution_count": 62,
      "outputs": [
        {
          "output_type": "stream",
          "name": "stdout",
          "text": [
            "{2022: {'Branch1': {1: {'roll_number': 1, 'Name': 'N', 'Marks': {'Maths': 100, 'English': 70}}}, 'Branch2': {}}, 2023: {'Branch1': {}}}\n"
          ]
        }
      ]
    },
    {
      "cell_type": "markdown",
      "source": [
        "**9. Using matplotlib plot the following functions on the domain: x = 0.5 to 100.0 in steps of 0.5.**"
      ],
      "metadata": {
        "id": "8775xtMfIUmT"
      }
    },
    {
      "cell_type": "markdown",
      "source": [
        "1. $y = x$"
      ],
      "metadata": {
        "id": "jexhFCEddFLn"
      }
    },
    {
      "cell_type": "code",
      "source": [
        "from matplotlib import pyplot as plt\n",
        "import numpy as np\n",
        "\n",
        "def f(x):\n",
        "    return x\n",
        "\n",
        "x = np.arange(0.5, 100, 0.5)\n",
        "plt.plot(x, f(x))\n",
        "plt.show()"
      ],
      "metadata": {
        "colab": {
          "base_uri": "https://localhost:8080/",
          "height": 265
        },
        "id": "hZlTtov4Iccj",
        "outputId": "3e3015b6-52ff-4773-f3bf-4a851084a531"
      },
      "execution_count": 55,
      "outputs": [
        {
          "output_type": "display_data",
          "data": {
            "text/plain": [
              "<Figure size 432x288 with 1 Axes>"
            ],
            "image/png": "[encoded data removed]"
          },
          "metadata": {
            "needs_background": "light"
          }
        }
      ]
    },
    {
      "cell_type": "markdown",
      "source": [
        "2. $y = x ^ 2$"
      ],
      "metadata": {
        "id": "tmR2H892dOR1"
      }
    },
    {
      "cell_type": "code",
      "source": [
        "from matplotlib import pyplot as plt\n",
        "import numpy as np\n",
        "\n",
        "def f(x):\n",
        "    return x * x\n",
        "\n",
        "x = np.arange(0.5, 100, 0.5)\n",
        "plt.plot(x, f(x))\n",
        "plt.show()"
      ],
      "metadata": {
        "colab": {
          "base_uri": "https://localhost:8080/",
          "height": 265
        },
        "id": "MONNstshLANZ",
        "outputId": "be77164a-013c-4fb8-80c3-c7efd6ee7006"
      },
      "execution_count": 56,
      "outputs": [
        {
          "output_type": "display_data",
          "data": {
            "text/plain": [
              "<Figure size 432x288 with 1 Axes>"
            ],
            "image/png": "[encoded data removed]"
          },
          "metadata": {
            "needs_background": "light"
          }
        }
      ]
    },
    {
      "cell_type": "markdown",
      "source": [
        "3. $y = x ^ 3 / 100$"
      ],
      "metadata": {
        "id": "2nggWnUndUyG"
      }
    },
    {
      "cell_type": "code",
      "source": [
        "from matplotlib import pyplot as plt\n",
        "import numpy as np\n",
        "\n",
        "def f(x):\n",
        "    return (x*x*x) / 100\n",
        "\n",
        "x = np.arange(0.5, 100, 0.5)\n",
        "plt.plot(x, f(x))\n",
        "plt.show()"
      ],
      "metadata": {
        "colab": {
          "base_uri": "https://localhost:8080/",
          "height": 265
        },
        "id": "pD3wE7ZoLAHC",
        "outputId": "491a631a-1d95-458d-c118-5fc3e6f0021e"
      },
      "execution_count": 57,
      "outputs": [
        {
          "output_type": "display_data",
          "data": {
            "text/plain": [
              "<Figure size 432x288 with 1 Axes>"
            ],
            "image/png": "[encoded data removed]"
          },
          "metadata": {
            "needs_background": "light"
          }
        }
      ]
    },
    {
      "cell_type": "markdown",
      "source": [
        "4. $y = sin(x)$"
      ],
      "metadata": {
        "id": "OcmChxi5ddch"
      }
    },
    {
      "cell_type": "code",
      "source": [
        "from matplotlib import pyplot as plt\n",
        "import numpy as np\n",
        "\n",
        "def f(x):\n",
        "    return np.sin(x)\n",
        "\n",
        "x = np.arange(0.5, 100, 0.5)\n",
        "plt.plot(x, f(x))\n",
        "plt.show()"
      ],
      "metadata": {
        "colab": {
          "base_uri": "https://localhost:8080/",
          "height": 265
        },
        "id": "603HW-ajLVRM",
        "outputId": "6f8ae4ed-7b05-4ad9-d26e-33282ef16603"
      },
      "execution_count": 58,
      "outputs": [
        {
          "output_type": "display_data",
          "data": {
            "text/plain": [
              "<Figure size 432x288 with 1 Axes>"
            ],
            "image/png": "[encoded data removed]"
          },
          "metadata": {
            "needs_background": "light"
          }
        }
      ]
    },
    {
      "cell_type": "markdown",
      "source": [
        "5. $y = \\frac{sin(x) }{x}$"
      ],
      "metadata": {
        "id": "EuAeqq3idl_Q"
      }
    },
    {
      "cell_type": "code",
      "source": [
        "from matplotlib import pyplot as plt\n",
        "import numpy as np\n",
        "\n",
        "def f(x):\n",
        "    return np.sin(x) / x\n",
        "\n",
        "x = np.arange(0.5, 100, 0.5)\n",
        "plt.plot(x, f(x))\n",
        "plt.show()"
      ],
      "metadata": {
        "colab": {
          "base_uri": "https://localhost:8080/",
          "height": 266
        },
        "id": "sjOAhJpGLa7y",
        "outputId": "8b3175c5-4c32-4169-e9a4-6aa67434b8f4"
      },
      "execution_count": 59,
      "outputs": [
        {
          "output_type": "display_data",
          "data": {
            "text/plain": [
              "<Figure size 432x288 with 1 Axes>"
            ],
            "image/png": "[encoded data removed]"
          },
          "metadata": {
            "needs_background": "light"
          }
        }
      ]
    },
    {
      "cell_type": "markdown",
      "source": [
        "6. $ y = log(x) $"
      ],
      "metadata": {
        "id": "Sqz47X-tdwxE"
      }
    },
    {
      "cell_type": "code",
      "source": [
        "from matplotlib import pyplot as plt\n",
        "import numpy as np\n",
        "\n",
        "def f(x):\n",
        "    return np.log(x)\n",
        "\n",
        "x = np.arange(0.5, 100, 0.5)\n",
        "plt.plot(x, f(x))\n",
        "plt.show()"
      ],
      "metadata": {
        "colab": {
          "base_uri": "https://localhost:8080/",
          "height": 265
        },
        "id": "f7dnVZmMLhpp",
        "outputId": "1aa26136-c522-4e7a-a2bd-44a2bc1ce353"
      },
      "execution_count": 60,
      "outputs": [
        {
          "output_type": "display_data",
          "data": {
            "text/plain": [
              "<Figure size 432x288 with 1 Axes>"
            ],
            "image/png": "[encoded data removed]"
          },
          "metadata": {
            "needs_background": "light"
          }
        }
      ]
    },
    {
      "cell_type": "markdown",
      "source": [
        "7. $y = e ^ x$\n",
        "\n"
      ],
      "metadata": {
        "id": "0pIR_aeqd2Nk"
      }
    },
    {
      "cell_type": "code",
      "source": [
        "from matplotlib import pyplot as plt\n",
        "import numpy as np\n",
        "\n",
        "def f(x):\n",
        "    return np.exp(x)\n",
        "\n",
        "x = np.arange(0.5, 100, 0.5)\n",
        "plt.plot(x, f(x))\n",
        "plt.show()"
      ],
      "metadata": {
        "colab": {
          "base_uri": "https://localhost:8080/",
          "height": 276
        },
        "id": "3f1CrJ2bLlxX",
        "outputId": "fd136f3c-a81a-4953-bec2-da56c78d00f7"
      },
      "execution_count": 61,
      "outputs": [
        {
          "output_type": "display_data",
          "data": {
            "text/plain": [
              "<Figure size 432x288 with 1 Axes>"
            ],
            "image/png": "[encoded data removed]"
          },
          "metadata": {
            "needs_background": "light"
          }
        }
      ]
    },
    {
      "cell_type": "markdown",
      "source": [
        "**10. Using numpy generate a matrix of size 20X5 containing random numbers drawn uniformly from the range of 1 to 2. Using Pandas create a dataframe out of this matrix. Name the columns of the dataframe as “a”, “b”, “c”, “d”, “e”. Find the column with the highest standard deviation. Find the row with the lowest mean.**\n",
        "\n",
        "Ans. \n",
        "\n"
      ],
      "metadata": {
        "id": "ma4N-0nNK_Pt"
      }
    },
    {
      "cell_type": "code",
      "source": [
        "# Creating a dataframe with random numbers in (1, 2).\n",
        "\n",
        "import numpy as np\n",
        "import pandas as pd\n",
        "\n",
        "arr = np.random.rand(20,5)\n",
        "\n",
        "for i in range(len(arr)):\n",
        "    for  j in range(5):\n",
        "        arr[i][j] +=1\n",
        "    \n",
        "df = pd.DataFrame(arr)\n",
        "df.columns = ['a','b','c','d','e']"
      ],
      "metadata": {
        "id": "5jcd0n7_ObUf"
      },
      "execution_count": 47,
      "outputs": []
    },
    {
      "cell_type": "code",
      "source": [
        "df"
      ],
      "metadata": {
        "colab": {
          "base_uri": "https://localhost:8080/",
          "height": 677
        },
        "id": "2Q_7vIvRREE7",
        "outputId": "452a0cdd-00f6-4cb8-de43-b8504d501311"
      },
      "execution_count": 48,
      "outputs": [
        {
          "output_type": "execute_result",
          "data": {
            "text/plain": [
              "           a         b         c         d         e\n",
              "0   1.040372  1.847941  1.434518  1.861571  1.568230\n",
              "1   1.588267  1.273883  1.621005  1.787259  1.539226\n",
              "2   1.050595  1.556726  1.819399  1.282998  1.509954\n",
              "3   1.141648  1.309419  1.094297  1.674216  1.040544\n",
              "4   1.804503  1.188201  1.049098  1.439202  1.688790\n",
              "5   1.916768  1.614412  1.076417  1.536329  1.912533\n",
              "6   1.245269  1.942704  1.377476  1.404984  1.392634\n",
              "7   1.615483  1.024815  1.502427  1.302323  1.716871\n",
              "8   1.189719  1.811711  1.221707  1.318665  1.626896\n",
              "9   1.517929  1.338719  1.896539  1.587223  1.769024\n",
              "10  1.965977  1.539666  1.553996  1.340126  1.778561\n",
              "11  1.364598  1.716182  1.082572  1.122145  1.191507\n",
              "12  1.603799  1.078538  1.999059  1.675898  1.973434\n",
              "13  1.364620  1.848354  1.509842  1.710480  1.714351\n",
              "14  1.949153  1.625648  1.838679  1.558672  1.611148\n",
              "15  1.560605  1.255922  1.723157  1.409857  1.716061\n",
              "16  1.364738  1.578683  1.648608  1.811370  1.488710\n",
              "17  1.775501  1.885153  1.375363  1.131035  1.204985\n",
              "18  1.341556  1.715648  1.258981  1.571432  1.976880\n",
              "19  1.142451  1.159443  1.050934  1.164779  1.925781"
            ],
            "text/html": [
              "\n",
              "  <div id=\"df-62f73405-d3aa-45c7-9f53-8aa9d740a3e4\">\n",
              "    <div class=\"colab-df-container\">\n",
              "      <div>\n",
              "<style scoped>\n",
              "    .dataframe tbody tr th:only-of-type {\n",
              "        vertical-align: middle;\n",
              "    }\n",
              "\n",
              "    .dataframe tbody tr th {\n",
              "        vertical-align: top;\n",
              "    }\n",
              "\n",
              "    .dataframe thead th {\n",
              "        text-align: right;\n",
              "    }\n",
              "</style>\n",
              "<table border=\"1\" class=\"dataframe\">\n",
              "  <thead>\n",
              "    <tr style=\"text-align: right;\">\n",
              "      <th></th>\n",
              "      <th>a</th>\n",
              "      <th>b</th>\n",
              "      <th>c</th>\n",
              "      <th>d</th>\n",
              "      <th>e</th>\n",
              "    </tr>\n",
              "  </thead>\n",
              "  <tbody>\n",
              "    <tr>\n",
              "      <th>0</th>\n",
              "      <td>1.040372</td>\n",
              "      <td>1.847941</td>\n",
              "      <td>1.434518</td>\n",
              "      <td>1.861571</td>\n",
              "      <td>1.568230</td>\n",
              "    </tr>\n",
              "    <tr>\n",
              "      <th>1</th>\n",
              "      <td>1.588267</td>\n",
              "      <td>1.273883</td>\n",
              "      <td>1.621005</td>\n",
              "      <td>1.787259</td>\n",
              "      <td>1.539226</td>\n",
              "    </tr>\n",
              "    <tr>\n",
              "      <th>2</th>\n",
              "      <td>1.050595</td>\n",
              "      <td>1.556726</td>\n",
              "      <td>1.819399</td>\n",
              "      <td>1.282998</td>\n",
              "      <td>1.509954</td>\n",
              "    </tr>\n",
              "    <tr>\n",
              "      <th>3</th>\n",
              "      <td>1.141648</td>\n",
              "      <td>1.309419</td>\n",
              "      <td>1.094297</td>\n",
              "      <td>1.674216</td>\n",
              "      <td>1.040544</td>\n",
              "    </tr>\n",
              "    <tr>\n",
              "      <th>4</th>\n",
              "      <td>1.804503</td>\n",
              "      <td>1.188201</td>\n",
              "      <td>1.049098</td>\n",
              "      <td>1.439202</td>\n",
              "      <td>1.688790</td>\n",
              "    </tr>\n",
              "    <tr>\n",
              "      <th>5</th>\n",
              "      <td>1.916768</td>\n",
              "      <td>1.614412</td>\n",
              "      <td>1.076417</td>\n",
              "      <td>1.536329</td>\n",
              "      <td>1.912533</td>\n",
              "    </tr>\n",
              "    <tr>\n",
              "      <th>6</th>\n",
              "      <td>1.245269</td>\n",
              "      <td>1.942704</td>\n",
              "      <td>1.377476</td>\n",
              "      <td>1.404984</td>\n",
              "      <td>1.392634</td>\n",
              "    </tr>\n",
              "    <tr>\n",
              "      <th>7</th>\n",
              "      <td>1.615483</td>\n",
              "      <td>1.024815</td>\n",
              "      <td>1.502427</td>\n",
              "      <td>1.302323</td>\n",
              "      <td>1.716871</td>\n",
              "    </tr>\n",
              "    <tr>\n",
              "      <th>8</th>\n",
              "      <td>1.189719</td>\n",
              "      <td>1.811711</td>\n",
              "      <td>1.221707</td>\n",
              "      <td>1.318665</td>\n",
              "      <td>1.626896</td>\n",
              "    </tr>\n",
              "    <tr>\n",
              "      <th>9</th>\n",
              "      <td>1.517929</td>\n",
              "      <td>1.338719</td>\n",
              "      <td>1.896539</td>\n",
              "      <td>1.587223</td>\n",
              "      <td>1.769024</td>\n",
              "    </tr>\n",
              "    <tr>\n",
              "      <th>10</th>\n",
              "      <td>1.965977</td>\n",
              "      <td>1.539666</td>\n",
              "      <td>1.553996</td>\n",
              "      <td>1.340126</td>\n",
              "      <td>1.778561</td>\n",
              "    </tr>\n",
              "    <tr>\n",
              "      <th>11</th>\n",
              "      <td>1.364598</td>\n",
              "      <td>1.716182</td>\n",
              "      <td>1.082572</td>\n",
              "      <td>1.122145</td>\n",
              "      <td>1.191507</td>\n",
              "    </tr>\n",
              "    <tr>\n",
              "      <th>12</th>\n",
              "      <td>1.603799</td>\n",
              "      <td>1.078538</td>\n",
              "      <td>1.999059</td>\n",
              "      <td>1.675898</td>\n",
              "      <td>1.973434</td>\n",
              "    </tr>\n",
              "    <tr>\n",
              "      <th>13</th>\n",
              "      <td>1.364620</td>\n",
              "      <td>1.848354</td>\n",
              "      <td>1.509842</td>\n",
              "      <td>1.710480</td>\n",
              "      <td>1.714351</td>\n",
              "    </tr>\n",
              "    <tr>\n",
              "      <th>14</th>\n",
              "      <td>1.949153</td>\n",
              "      <td>1.625648</td>\n",
              "      <td>1.838679</td>\n",
              "      <td>1.558672</td>\n",
              "      <td>1.611148</td>\n",
              "    </tr>\n",
              "    <tr>\n",
              "      <th>15</th>\n",
              "      <td>1.560605</td>\n",
              "      <td>1.255922</td>\n",
              "      <td>1.723157</td>\n",
              "      <td>1.409857</td>\n",
              "      <td>1.716061</td>\n",
              "    </tr>\n",
              "    <tr>\n",
              "      <th>16</th>\n",
              "      <td>1.364738</td>\n",
              "      <td>1.578683</td>\n",
              "      <td>1.648608</td>\n",
              "      <td>1.811370</td>\n",
              "      <td>1.488710</td>\n",
              "    </tr>\n",
              "    <tr>\n",
              "      <th>17</th>\n",
              "      <td>1.775501</td>\n",
              "      <td>1.885153</td>\n",
              "      <td>1.375363</td>\n",
              "      <td>1.131035</td>\n",
              "      <td>1.204985</td>\n",
              "    </tr>\n",
              "    <tr>\n",
              "      <th>18</th>\n",
              "      <td>1.341556</td>\n",
              "      <td>1.715648</td>\n",
              "      <td>1.258981</td>\n",
              "      <td>1.571432</td>\n",
              "      <td>1.976880</td>\n",
              "    </tr>\n",
              "    <tr>\n",
              "      <th>19</th>\n",
              "      <td>1.142451</td>\n",
              "      <td>1.159443</td>\n",
              "      <td>1.050934</td>\n",
              "      <td>1.164779</td>\n",
              "      <td>1.925781</td>\n",
              "    </tr>\n",
              "  </tbody>\n",
              "</table>\n",
              "</div>\n",
              "      <button class=\"colab-df-convert\" onclick=\"convertToInteractive('df-62f73405-d3aa-45c7-9f53-8aa9d740a3e4')\"\n",
              "              title=\"Convert this dataframe to an interactive table.\"\n",
              "              style=\"display:none;\">\n",
              "        \n",
              "  <svg xmlns=\"http://www.w3.org/2000/svg\" height=\"24px\"viewBox=\"0 0 24 24\"\n",
              "       width=\"24px\">\n",
              "    <path d=\"M0 0h24v24H0V0z\" fill=\"none\"/>\n",
              "    <path d=\"M18.56 5.44l.94 2.06.94-2.06 2.06-.94-2.06-.94-.94-2.06-.94 2.06-2.06.94zm-11 1L8.5 8.5l.94-2.06 2.06-.94-2.06-.94L8.5 2.5l-.94 2.06-2.06.94zm10 10l.94 2.06.94-2.06 2.06-.94-2.06-.94-.94-2.06-.94 2.06-2.06.94z\"/><path d=\"M17.41 7.96l-1.37-1.37c-.4-.4-.92-.59-1.43-.59-.52 0-1.04.2-1.43.59L10.3 9.45l-7.72 7.72c-.78.78-.78 2.05 0 2.83L4 21.41c.39.39.9.59 1.41.59.51 0 1.02-.2 1.41-.59l7.78-7.78 2.81-2.81c.8-.78.8-2.07 0-2.86zM5.41 20L4 18.59l7.72-7.72 1.47 1.35L5.41 20z\"/>\n",
              "  </svg>\n",
              "      </button>\n",
              "      \n",
              "  <style>\n",
              "    .colab-df-container {\n",
              "      display:flex;\n",
              "      flex-wrap:wrap;\n",
              "      gap: 12px;\n",
              "    }\n",
              "\n",
              "    .colab-df-convert {\n",
              "      background-color: #E8F0FE;\n",
              "      border: none;\n",
              "      border-radius: 50%;\n",
              "      cursor: pointer;\n",
              "      display: none;\n",
              "      fill: #1967D2;\n",
              "      height: 32px;\n",
              "      padding: 0 0 0 0;\n",
              "      width: 32px;\n",
              "    }\n",
              "\n",
              "    .colab-df-convert:hover {\n",
              "      background-color: #E2EBFA;\n",
              "      box-shadow: 0px 1px 2px rgba(60, 64, 67, 0.3), 0px 1px 3px 1px rgba(60, 64, 67, 0.15);\n",
              "      fill: #174EA6;\n",
              "    }\n",
              "\n",
              "    [theme=dark] .colab-df-convert {\n",
              "      background-color: #3B4455;\n",
              "      fill: #D2E3FC;\n",
              "    }\n",
              "\n",
              "    [theme=dark] .colab-df-convert:hover {\n",
              "      background-color: #434B5C;\n",
              "      box-shadow: 0px 1px 3px 1px rgba(0, 0, 0, 0.15);\n",
              "      filter: drop-shadow(0px 1px 2px rgba(0, 0, 0, 0.3));\n",
              "      fill: #FFFFFF;\n",
              "    }\n",
              "  </style>\n",
              "\n",
              "      <script>\n",
              "        const buttonEl =\n",
              "          document.querySelector('#df-62f73405-d3aa-45c7-9f53-8aa9d740a3e4 button.colab-df-convert');\n",
              "        buttonEl.style.display =\n",
              "          google.colab.kernel.accessAllowed ? 'block' : 'none';\n",
              "\n",
              "        async function convertToInteractive(key) {\n",
              "          const element = document.querySelector('#df-62f73405-d3aa-45c7-9f53-8aa9d740a3e4');\n",
              "          const dataTable =\n",
              "            await google.colab.kernel.invokeFunction('convertToInteractive',\n",
              "                                                     [key], {});\n",
              "          if (!dataTable) return;\n",
              "\n",
              "          const docLinkHtml = 'Like what you see? Visit the ' +\n",
              "            '<a target=\"_blank\" href=https://colab.research.google.com/notebooks/data_table.ipynb>data table notebook</a>'\n",
              "            + ' to learn more about interactive tables.';\n",
              "          element.innerHTML = '';\n",
              "          dataTable['output_type'] = 'display_data';\n",
              "          await google.colab.output.renderOutput(dataTable, element);\n",
              "          const docLink = document.createElement('div');\n",
              "          docLink.innerHTML = docLinkHtml;\n",
              "          element.appendChild(docLink);\n",
              "        }\n",
              "      </script>\n",
              "    </div>\n",
              "  </div>\n",
              "  "
            ]
          },
          "metadata": {},
          "execution_count": 48
        }
      ]
    },
    {
      "cell_type": "code",
      "source": [
        "# Largest standard deviation in column,\n",
        "\n",
        "ar = ['b','c','d','e']\n",
        "com = 'a'\n",
        "s = np.std(df['a'])\n",
        "#print(s)\n",
        "\n",
        "for i in ar:\n",
        "    #print(np.std(df[i]))\n",
        "    if(np.std(df[i]) > s):\n",
        "        com = i\n",
        "        #print(com)\n",
        "        s = np.std(df[i])\n",
        "print(\"largest standard deviation in: \", com)"
      ],
      "metadata": {
        "id": "qszdmV-oU-08",
        "colab": {
          "base_uri": "https://localhost:8080/"
        },
        "outputId": "a8a470ea-9695-449b-ae01-6f82c30f9d68"
      },
      "execution_count": 49,
      "outputs": [
        {
          "output_type": "stream",
          "name": "stdout",
          "text": [
            "largest standard deviation in:  c\n"
          ]
        }
      ]
    },
    {
      "cell_type": "code",
      "source": [
        "# Lowest mean in row,\n",
        "\n",
        "mean = np.mean(df.iloc[0])\n",
        "low = 0\n",
        "for i in range(1,20):\n",
        "    if(np.mean(df.iloc[i]) < mean):\n",
        "        low = i\n",
        "        mean = np.mean(df.iloc[i])\n",
        "print(\"lowest mean in a row: \", low)"
      ],
      "metadata": {
        "colab": {
          "base_uri": "https://localhost:8080/"
        },
        "id": "Y4x-niinp3tM",
        "outputId": "ca9a8716-ab99-45e8-cddd-d77a49188315"
      },
      "execution_count": 50,
      "outputs": [
        {
          "output_type": "stream",
          "name": "stdout",
          "text": [
            "lowest mean in a row:  3\n"
          ]
        }
      ]
    },
    {
      "cell_type": "markdown",
      "source": [
        "**11. Add a new column to the dataframe called “f” which is the sum of the columns “a”, “b”, “c”, “d”, “e”. Create another column called “g”. The value in the column “g” should be “LT8” if the value in the column “f” is less than 8 and “GT8” otherwise. Find the number of rows in the dataframe where the value in the column “g” is “LT8”. Find the standard deviation of the column “f” for the rows where the value in the column “g” is “LT8” and “GT8” respectively.**\n",
        "\n",
        "Ans."
      ],
      "metadata": {
        "id": "YLVPqPsyrTho"
      }
    },
    {
      "cell_type": "code",
      "source": [
        "sum = []\n",
        "c8 = []\n",
        "for i in range(0,20):\n",
        "    sum.append(df.iloc[i].sum())\n",
        "    if(df.iloc[i].sum() < 8 ):\n",
        "        c8.append('LT8')\n",
        "    else:\n",
        "        c8.append('GT8')\n",
        "#print(sum)\n",
        "df['f'] = sum\n",
        "df['g'] = c8"
      ],
      "metadata": {
        "id": "gHZZBwexrTLg"
      },
      "execution_count": 51,
      "outputs": []
    },
    {
      "cell_type": "code",
      "source": [
        "df"
      ],
      "metadata": {
        "colab": {
          "base_uri": "https://localhost:8080/",
          "height": 677
        },
        "id": "qEITeAw0up7X",
        "outputId": "0238a071-3403-427c-f9fc-ee47e74abac6"
      },
      "execution_count": 52,
      "outputs": [
        {
          "output_type": "execute_result",
          "data": {
            "text/plain": [
              "           a         b         c         d         e         f    g\n",
              "0   1.040372  1.847941  1.434518  1.861571  1.568230  7.752632  LT8\n",
              "1   1.588267  1.273883  1.621005  1.787259  1.539226  7.809640  LT8\n",
              "2   1.050595  1.556726  1.819399  1.282998  1.509954  7.219672  LT8\n",
              "3   1.141648  1.309419  1.094297  1.674216  1.040544  6.260125  LT8\n",
              "4   1.804503  1.188201  1.049098  1.439202  1.688790  7.169795  LT8\n",
              "5   1.916768  1.614412  1.076417  1.536329  1.912533  8.056458  GT8\n",
              "6   1.245269  1.942704  1.377476  1.404984  1.392634  7.363066  LT8\n",
              "7   1.615483  1.024815  1.502427  1.302323  1.716871  7.161920  LT8\n",
              "8   1.189719  1.811711  1.221707  1.318665  1.626896  7.168698  LT8\n",
              "9   1.517929  1.338719  1.896539  1.587223  1.769024  8.109434  GT8\n",
              "10  1.965977  1.539666  1.553996  1.340126  1.778561  8.178326  GT8\n",
              "11  1.364598  1.716182  1.082572  1.122145  1.191507  6.477003  LT8\n",
              "12  1.603799  1.078538  1.999059  1.675898  1.973434  8.330729  GT8\n",
              "13  1.364620  1.848354  1.509842  1.710480  1.714351  8.147647  GT8\n",
              "14  1.949153  1.625648  1.838679  1.558672  1.611148  8.583299  GT8\n",
              "15  1.560605  1.255922  1.723157  1.409857  1.716061  7.665603  LT8\n",
              "16  1.364738  1.578683  1.648608  1.811370  1.488710  7.892109  LT8\n",
              "17  1.775501  1.885153  1.375363  1.131035  1.204985  7.372037  LT8\n",
              "18  1.341556  1.715648  1.258981  1.571432  1.976880  7.864497  LT8\n",
              "19  1.142451  1.159443  1.050934  1.164779  1.925781  6.443388  LT8"
            ],
            "text/html": [
              "\n",
              "  <div id=\"df-60b0f4f6-54c5-45ef-9805-d18360d7d1e2\">\n",
              "    <div class=\"colab-df-container\">\n",
              "      <div>\n",
              "<style scoped>\n",
              "    .dataframe tbody tr th:only-of-type {\n",
              "        vertical-align: middle;\n",
              "    }\n",
              "\n",
              "    .dataframe tbody tr th {\n",
              "        vertical-align: top;\n",
              "    }\n",
              "\n",
              "    .dataframe thead th {\n",
              "        text-align: right;\n",
              "    }\n",
              "</style>\n",
              "<table border=\"1\" class=\"dataframe\">\n",
              "  <thead>\n",
              "    <tr style=\"text-align: right;\">\n",
              "      <th></th>\n",
              "      <th>a</th>\n",
              "      <th>b</th>\n",
              "      <th>c</th>\n",
              "      <th>d</th>\n",
              "      <th>e</th>\n",
              "      <th>f</th>\n",
              "      <th>g</th>\n",
              "    </tr>\n",
              "  </thead>\n",
              "  <tbody>\n",
              "    <tr>\n",
              "      <th>0</th>\n",
              "      <td>1.040372</td>\n",
              "      <td>1.847941</td>\n",
              "      <td>1.434518</td>\n",
              "      <td>1.861571</td>\n",
              "      <td>1.568230</td>\n",
              "      <td>7.752632</td>\n",
              "      <td>LT8</td>\n",
              "    </tr>\n",
              "    <tr>\n",
              "      <th>1</th>\n",
              "      <td>1.588267</td>\n",
              "      <td>1.273883</td>\n",
              "      <td>1.621005</td>\n",
              "      <td>1.787259</td>\n",
              "      <td>1.539226</td>\n",
              "      <td>7.809640</td>\n",
              "      <td>LT8</td>\n",
              "    </tr>\n",
              "    <tr>\n",
              "      <th>2</th>\n",
              "      <td>1.050595</td>\n",
              "      <td>1.556726</td>\n",
              "      <td>1.819399</td>\n",
              "      <td>1.282998</td>\n",
              "      <td>1.509954</td>\n",
              "      <td>7.219672</td>\n",
              "      <td>LT8</td>\n",
              "    </tr>\n",
              "    <tr>\n",
              "      <th>3</th>\n",
              "      <td>1.141648</td>\n",
              "      <td>1.309419</td>\n",
              "      <td>1.094297</td>\n",
              "      <td>1.674216</td>\n",
              "      <td>1.040544</td>\n",
              "      <td>6.260125</td>\n",
              "      <td>LT8</td>\n",
              "    </tr>\n",
              "    <tr>\n",
              "      <th>4</th>\n",
              "      <td>1.804503</td>\n",
              "      <td>1.188201</td>\n",
              "      <td>1.049098</td>\n",
              "      <td>1.439202</td>\n",
              "      <td>1.688790</td>\n",
              "      <td>7.169795</td>\n",
              "      <td>LT8</td>\n",
              "    </tr>\n",
              "    <tr>\n",
              "      <th>5</th>\n",
              "      <td>1.916768</td>\n",
              "      <td>1.614412</td>\n",
              "      <td>1.076417</td>\n",
              "      <td>1.536329</td>\n",
              "      <td>1.912533</td>\n",
              "      <td>8.056458</td>\n",
              "      <td>GT8</td>\n",
              "    </tr>\n",
              "    <tr>\n",
              "      <th>6</th>\n",
              "      <td>1.245269</td>\n",
              "      <td>1.942704</td>\n",
              "      <td>1.377476</td>\n",
              "      <td>1.404984</td>\n",
              "      <td>1.392634</td>\n",
              "      <td>7.363066</td>\n",
              "      <td>LT8</td>\n",
              "    </tr>\n",
              "    <tr>\n",
              "      <th>7</th>\n",
              "      <td>1.615483</td>\n",
              "      <td>1.024815</td>\n",
              "      <td>1.502427</td>\n",
              "      <td>1.302323</td>\n",
              "      <td>1.716871</td>\n",
              "      <td>7.161920</td>\n",
              "      <td>LT8</td>\n",
              "    </tr>\n",
              "    <tr>\n",
              "      <th>8</th>\n",
              "      <td>1.189719</td>\n",
              "      <td>1.811711</td>\n",
              "      <td>1.221707</td>\n",
              "      <td>1.318665</td>\n",
              "      <td>1.626896</td>\n",
              "      <td>7.168698</td>\n",
              "      <td>LT8</td>\n",
              "    </tr>\n",
              "    <tr>\n",
              "      <th>9</th>\n",
              "      <td>1.517929</td>\n",
              "      <td>1.338719</td>\n",
              "      <td>1.896539</td>\n",
              "      <td>1.587223</td>\n",
              "      <td>1.769024</td>\n",
              "      <td>8.109434</td>\n",
              "      <td>GT8</td>\n",
              "    </tr>\n",
              "    <tr>\n",
              "      <th>10</th>\n",
              "      <td>1.965977</td>\n",
              "      <td>1.539666</td>\n",
              "      <td>1.553996</td>\n",
              "      <td>1.340126</td>\n",
              "      <td>1.778561</td>\n",
              "      <td>8.178326</td>\n",
              "      <td>GT8</td>\n",
              "    </tr>\n",
              "    <tr>\n",
              "      <th>11</th>\n",
              "      <td>1.364598</td>\n",
              "      <td>1.716182</td>\n",
              "      <td>1.082572</td>\n",
              "      <td>1.122145</td>\n",
              "      <td>1.191507</td>\n",
              "      <td>6.477003</td>\n",
              "      <td>LT8</td>\n",
              "    </tr>\n",
              "    <tr>\n",
              "      <th>12</th>\n",
              "      <td>1.603799</td>\n",
              "      <td>1.078538</td>\n",
              "      <td>1.999059</td>\n",
              "      <td>1.675898</td>\n",
              "      <td>1.973434</td>\n",
              "      <td>8.330729</td>\n",
              "      <td>GT8</td>\n",
              "    </tr>\n",
              "    <tr>\n",
              "      <th>13</th>\n",
              "      <td>1.364620</td>\n",
              "      <td>1.848354</td>\n",
              "      <td>1.509842</td>\n",
              "      <td>1.710480</td>\n",
              "      <td>1.714351</td>\n",
              "      <td>8.147647</td>\n",
              "      <td>GT8</td>\n",
              "    </tr>\n",
              "    <tr>\n",
              "      <th>14</th>\n",
              "      <td>1.949153</td>\n",
              "      <td>1.625648</td>\n",
              "      <td>1.838679</td>\n",
              "      <td>1.558672</td>\n",
              "      <td>1.611148</td>\n",
              "      <td>8.583299</td>\n",
              "      <td>GT8</td>\n",
              "    </tr>\n",
              "    <tr>\n",
              "      <th>15</th>\n",
              "      <td>1.560605</td>\n",
              "      <td>1.255922</td>\n",
              "      <td>1.723157</td>\n",
              "      <td>1.409857</td>\n",
              "      <td>1.716061</td>\n",
              "      <td>7.665603</td>\n",
              "      <td>LT8</td>\n",
              "    </tr>\n",
              "    <tr>\n",
              "      <th>16</th>\n",
              "      <td>1.364738</td>\n",
              "      <td>1.578683</td>\n",
              "      <td>1.648608</td>\n",
              "      <td>1.811370</td>\n",
              "      <td>1.488710</td>\n",
              "      <td>7.892109</td>\n",
              "      <td>LT8</td>\n",
              "    </tr>\n",
              "    <tr>\n",
              "      <th>17</th>\n",
              "      <td>1.775501</td>\n",
              "      <td>1.885153</td>\n",
              "      <td>1.375363</td>\n",
              "      <td>1.131035</td>\n",
              "      <td>1.204985</td>\n",
              "      <td>7.372037</td>\n",
              "      <td>LT8</td>\n",
              "    </tr>\n",
              "    <tr>\n",
              "      <th>18</th>\n",
              "      <td>1.341556</td>\n",
              "      <td>1.715648</td>\n",
              "      <td>1.258981</td>\n",
              "      <td>1.571432</td>\n",
              "      <td>1.976880</td>\n",
              "      <td>7.864497</td>\n",
              "      <td>LT8</td>\n",
              "    </tr>\n",
              "    <tr>\n",
              "      <th>19</th>\n",
              "      <td>1.142451</td>\n",
              "      <td>1.159443</td>\n",
              "      <td>1.050934</td>\n",
              "      <td>1.164779</td>\n",
              "      <td>1.925781</td>\n",
              "      <td>6.443388</td>\n",
              "      <td>LT8</td>\n",
              "    </tr>\n",
              "  </tbody>\n",
              "</table>\n",
              "</div>\n",
              "      <button class=\"colab-df-convert\" onclick=\"convertToInteractive('df-60b0f4f6-54c5-45ef-9805-d18360d7d1e2')\"\n",
              "              title=\"Convert this dataframe to an interactive table.\"\n",
              "              style=\"display:none;\">\n",
              "        \n",
              "  <svg xmlns=\"http://www.w3.org/2000/svg\" height=\"24px\"viewBox=\"0 0 24 24\"\n",
              "       width=\"24px\">\n",
              "    <path d=\"M0 0h24v24H0V0z\" fill=\"none\"/>\n",
              "    <path d=\"M18.56 5.44l.94 2.06.94-2.06 2.06-.94-2.06-.94-.94-2.06-.94 2.06-2.06.94zm-11 1L8.5 8.5l.94-2.06 2.06-.94-2.06-.94L8.5 2.5l-.94 2.06-2.06.94zm10 10l.94 2.06.94-2.06 2.06-.94-2.06-.94-.94-2.06-.94 2.06-2.06.94z\"/><path d=\"M17.41 7.96l-1.37-1.37c-.4-.4-.92-.59-1.43-.59-.52 0-1.04.2-1.43.59L10.3 9.45l-7.72 7.72c-.78.78-.78 2.05 0 2.83L4 21.41c.39.39.9.59 1.41.59.51 0 1.02-.2 1.41-.59l7.78-7.78 2.81-2.81c.8-.78.8-2.07 0-2.86zM5.41 20L4 18.59l7.72-7.72 1.47 1.35L5.41 20z\"/>\n",
              "  </svg>\n",
              "      </button>\n",
              "      \n",
              "  <style>\n",
              "    .colab-df-container {\n",
              "      display:flex;\n",
              "      flex-wrap:wrap;\n",
              "      gap: 12px;\n",
              "    }\n",
              "\n",
              "    .colab-df-convert {\n",
              "      background-color: #E8F0FE;\n",
              "      border: none;\n",
              "      border-radius: 50%;\n",
              "      cursor: pointer;\n",
              "      display: none;\n",
              "      fill: #1967D2;\n",
              "      height: 32px;\n",
              "      padding: 0 0 0 0;\n",
              "      width: 32px;\n",
              "    }\n",
              "\n",
              "    .colab-df-convert:hover {\n",
              "      background-color: #E2EBFA;\n",
              "      box-shadow: 0px 1px 2px rgba(60, 64, 67, 0.3), 0px 1px 3px 1px rgba(60, 64, 67, 0.15);\n",
              "      fill: #174EA6;\n",
              "    }\n",
              "\n",
              "    [theme=dark] .colab-df-convert {\n",
              "      background-color: #3B4455;\n",
              "      fill: #D2E3FC;\n",
              "    }\n",
              "\n",
              "    [theme=dark] .colab-df-convert:hover {\n",
              "      background-color: #434B5C;\n",
              "      box-shadow: 0px 1px 3px 1px rgba(0, 0, 0, 0.15);\n",
              "      filter: drop-shadow(0px 1px 2px rgba(0, 0, 0, 0.3));\n",
              "      fill: #FFFFFF;\n",
              "    }\n",
              "  </style>\n",
              "\n",
              "      <script>\n",
              "        const buttonEl =\n",
              "          document.querySelector('#df-60b0f4f6-54c5-45ef-9805-d18360d7d1e2 button.colab-df-convert');\n",
              "        buttonEl.style.display =\n",
              "          google.colab.kernel.accessAllowed ? 'block' : 'none';\n",
              "\n",
              "        async function convertToInteractive(key) {\n",
              "          const element = document.querySelector('#df-60b0f4f6-54c5-45ef-9805-d18360d7d1e2');\n",
              "          const dataTable =\n",
              "            await google.colab.kernel.invokeFunction('convertToInteractive',\n",
              "                                                     [key], {});\n",
              "          if (!dataTable) return;\n",
              "\n",
              "          const docLinkHtml = 'Like what you see? Visit the ' +\n",
              "            '<a target=\"_blank\" href=https://colab.research.google.com/notebooks/data_table.ipynb>data table notebook</a>'\n",
              "            + ' to learn more about interactive tables.';\n",
              "          element.innerHTML = '';\n",
              "          dataTable['output_type'] = 'display_data';\n",
              "          await google.colab.output.renderOutput(dataTable, element);\n",
              "          const docLink = document.createElement('div');\n",
              "          docLink.innerHTML = docLinkHtml;\n",
              "          element.appendChild(docLink);\n",
              "        }\n",
              "      </script>\n",
              "    </div>\n",
              "  </div>\n",
              "  "
            ]
          },
          "metadata": {},
          "execution_count": 52
        }
      ]
    },
    {
      "cell_type": "markdown",
      "source": [
        "- Standard Deviation in column f with respect to \"GT8\" and \"LT8\" in column g. "
      ],
      "metadata": {
        "id": "Om-brvGmcvea"
      }
    },
    {
      "cell_type": "code",
      "source": [
        "df[df[\"g\"] == \"GT8\"][\"f\"].std()"
      ],
      "metadata": {
        "colab": {
          "base_uri": "https://localhost:8080/"
        },
        "id": "4w7MuHd8uW47",
        "outputId": "e09c3ae3-d1dc-453e-ffed-7c613c818840"
      },
      "execution_count": 53,
      "outputs": [
        {
          "output_type": "execute_result",
          "data": {
            "text/plain": [
              "0.19440150716948315"
            ]
          },
          "metadata": {},
          "execution_count": 53
        }
      ]
    },
    {
      "cell_type": "code",
      "source": [
        "df[df[\"g\"] == \"LT8\"][\"f\"].std()"
      ],
      "metadata": {
        "colab": {
          "base_uri": "https://localhost:8080/"
        },
        "id": "Sq2nOgtzuVFO",
        "outputId": "5fd61faa-4922-43d8-a293-b5818965f2c5"
      },
      "execution_count": 54,
      "outputs": [
        {
          "output_type": "execute_result",
          "data": {
            "text/plain": [
              "0.5409988715587406"
            ]
          },
          "metadata": {},
          "execution_count": 54
        }
      ]
    },
    {
      "cell_type": "markdown",
      "source": [
        "**12. Write a small piece of code to explain broadcasting in numpy.**\n",
        "\n"
      ],
      "metadata": {
        "id": "Yc-lrRYUxySU"
      }
    },
    {
      "cell_type": "markdown",
      "source": [
        "Ans. \n",
        "\n",
        "Broadcasting is how numpy treats array with different shapes during arithmetic operations to make them have compatible shapes of two arrays. Numpy do Boradcasting with some constraints, the smaller array is boradcast across the larger array. Broacasting follows specific set of rules. Simple example of Broadcasting is given as, \n",
        "\n"
      ],
      "metadata": {
        "id": "yjA4zbbNZRIm"
      }
    },
    {
      "cell_type": "code",
      "source": [
        "A = np.array([1,2,3])\n",
        "B = np.array([2,4,5])\n",
        "A * B"
      ],
      "metadata": {
        "colab": {
          "base_uri": "https://localhost:8080/"
        },
        "id": "itEyFIrsa3bl",
        "outputId": "a5e99fac-83a0-4ce5-bc26-de0f6e844b21"
      },
      "execution_count": 37,
      "outputs": [
        {
          "output_type": "execute_result",
          "data": {
            "text/plain": [
              "array([ 2,  8, 15])"
            ]
          },
          "metadata": {},
          "execution_count": 37
        }
      ]
    },
    {
      "cell_type": "code",
      "source": [
        "C = np.array([3,4,5])\n",
        "D = np.array([3])\n",
        "C * D"
      ],
      "metadata": {
        "colab": {
          "base_uri": "https://localhost:8080/"
        },
        "id": "oX2IRDI_ZQfg",
        "outputId": "eb0aeb5d-690f-495d-8a66-25cb788daa79"
      },
      "execution_count": 39,
      "outputs": [
        {
          "output_type": "execute_result",
          "data": {
            "text/plain": [
              "array([ 9, 12, 15])"
            ]
          },
          "metadata": {},
          "execution_count": 39
        }
      ]
    },
    {
      "cell_type": "markdown",
      "source": [
        "**13. Write a function to compute the argmin of a numpy array. The function should take a numpy array as input and return the index of the minimum element. You can use the np.argmin function to verify your solution.**"
      ],
      "metadata": {
        "id": "5aYGzk-3x08d"
      }
    },
    {
      "cell_type": "code",
      "source": [
        "import numpy as np\n",
        "def find_argmin(arr):\n",
        "    if(len(arr) == 0 ):\n",
        "        print(\"Empty array\")\n",
        "    min = 10000000000000\n",
        "    index = -1\n",
        "    for i in range(len(arr)):\n",
        "        if(arr[i] < min):\n",
        "            min = arr[i]\n",
        "            index = i\n",
        "    return (min,index)\n",
        "\n",
        "arr = np.array([6,8,4,5,6])\n",
        "\n",
        "print(find_argmin(arr))\n",
        "print(arr.argmin())\n"
      ],
      "metadata": {
        "colab": {
          "base_uri": "https://localhost:8080/"
        },
        "id": "Ha8VWDE6qoj6",
        "outputId": "95318494-7892-4101-a930-c9843f7da03a"
      },
      "execution_count": 36,
      "outputs": [
        {
          "output_type": "stream",
          "name": "stdout",
          "text": [
            "(4, 2)\n",
            "2\n"
          ]
        }
      ]
    }
  ]
}